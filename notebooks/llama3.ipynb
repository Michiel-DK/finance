{
 "cells": [
  {
   "cell_type": "code",
   "execution_count": 9,
   "metadata": {},
   "outputs": [
    {
     "name": "stderr",
     "output_type": "stream",
     "text": [
      "Fetching 6 files: 100%|██████████| 6/6 [00:00<00:00, 99864.38it/s]\n"
     ]
    }
   ],
   "source": [
    "from mlx_lm import load\n",
    "\n",
    "# Define your model to import\n",
    "model_name = \"mlx-community/Meta-Llama-3-8B-Instruct-4bit\"\n",
    "\n",
    "# Loading model\n",
    "model, tokenizer = load(model_name)"
   ]
  },
  {
   "cell_type": "code",
   "execution_count": 10,
   "metadata": {},
   "outputs": [],
   "source": [
    "from mlx_lm import generate"
   ]
  },
  {
   "cell_type": "code",
   "execution_count": 7,
   "metadata": {},
   "outputs": [],
   "source": [
    "# Define the role of the chatbot\n",
    "chatbot_role = \"You are a math professor chatbot. You answer with clear step by step solutions.\"\n",
    "\n",
    "# Define a mathematical problem\n",
    "math_question = \"Please compute the integral of f(x) = exp(-x^2) over the x domain of (- infinity, infinity), use LaTeX.\"\n",
    "\n",
    "# Set up the chat scenario with roles\n",
    "messages = [\n",
    "    {\"role\": \"system\", \"content\": chatbot_role},\n",
    "    {\"role\": \"user\", \"content\": math_question}\n",
    "]\n",
    "\n",
    "# Apply the chat template to format the input for the model\n",
    "input_ids = tokenizer.apply_chat_template(messages, add_generation_prompt=True)\n",
    "\n",
    "# Decode the tokenized input back to text format to be used as a prompt for the model\n",
    "prompt = tokenizer.decode(input_ids)\n",
    "\n",
    "# Generate a response using the model\n",
    "response = generate(model, tokenizer, max_tokens=512, prompt=prompt)"
   ]
  },
  {
   "cell_type": "code",
   "execution_count": null,
   "metadata": {},
   "outputs": [],
   "source": []
  },
  {
   "cell_type": "code",
   "execution_count": null,
   "metadata": {},
   "outputs": [],
   "source": []
  }
 ],
 "metadata": {
  "kernelspec": {
   "display_name": "finance",
   "language": "python",
   "name": "python3"
  },
  "language_info": {
   "codemirror_mode": {
    "name": "ipython",
    "version": 3
   },
   "file_extension": ".py",
   "mimetype": "text/x-python",
   "name": "python",
   "nbconvert_exporter": "python",
   "pygments_lexer": "ipython3",
   "version": "3.10.6"
  }
 },
 "nbformat": 4,
 "nbformat_minor": 2
}
