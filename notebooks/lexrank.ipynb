{
 "cells": [
  {
   "cell_type": "code",
   "execution_count": 19,
   "metadata": {},
   "outputs": [],
   "source": [
    "from finance.llm.summarization import TranscriptLoader"
   ]
  },
  {
   "cell_type": "code",
   "execution_count": 20,
   "metadata": {},
   "outputs": [],
   "source": [
    "dataloader = TranscriptLoader(collection_name = \"transcripts_mililm_l6_v3\", embedding_model = \"all-MiniLM-L6-v2\")\n",
    "dataloader.instantiate_client()\n",
    "\n",
    "where_dict = {'$and':[\n",
    "  {'symbol': {\n",
    "   \"$in\": ['TSLA']}\n",
    "  }, \n",
    "  {'year': {\n",
    "\"$gt\": 2023}\n",
    "  }]\n",
    " }\n",
    "\n",
    "result = dataloader.query_client('TESLA transcripts', n_results=1, **where_dict)\n",
    "texts = dataloader.get_texts(result, 1)"
   ]
  },
  {
   "cell_type": "code",
   "execution_count": 26,
   "metadata": {},
   "outputs": [],
   "source": [
    "from sumy.summarizers.lex_rank import LexRankSummarizer\n",
    "from sumy.parsers.plaintext import PlaintextParser\n",
    "from sumy.nlp.tokenizers import Tokenizer\n",
    "# We need to pass string not LangChain's Document\n",
    "# We only select \"Text\" labeled data as \"Title\" will much likely brings noise\n",
    "\n",
    "full_text   =  result['documents'][0][0]"
   ]
  },
  {
   "cell_type": "code",
   "execution_count": 27,
   "metadata": {},
   "outputs": [],
   "source": [
    "tokenizer       =   Tokenizer(\"english\")\n",
    "parser          =   PlaintextParser(full_text, tokenizer)\n",
    "\n",
    "lex_rank    =   LexRankSummarizer()"
   ]
  },
  {
   "cell_type": "code",
   "execution_count": 28,
   "metadata": {},
   "outputs": [],
   "source": [
    "most_important_sents    =   lex_rank(parser.document, sentences_count=40)\n",
    "\n",
    "most_important_sents    =   [str(sent) for sent in most_important_sents if str(sent)]"
   ]
  },
  {
   "cell_type": "code",
   "execution_count": 29,
   "metadata": {},
   "outputs": [
    {
     "data": {
      "text/plain": [
       "[\"One of the things we're going to be doing just to make sure people actually understand the capabilities of the car is when delivering a new car and when picking up a car for service to just show people how to use it and just drive them around the block.\",\n",
       " 'We postponed the sort of Robotaxi the sort of product unveil by a couple of months where it were -- it shifted to 10/10 to the 10th October -end because I wanted to make some important changes that I think would improve the vehicle -- sort of Robotaxi, the thing that we are -- the main thing that we are going to show and we are also going to show off a couple of other things.',\n",
       " 'I would like to thank the entire Tesla team for their efforts in delivering a great quarter.',\n",
       " \"And I think there's still some upgrades we want to make to it, but we expect to be in production with Roadster next year.\",\n",
       " \"So we'll go to the next question, when do you expect the first Robotaxi ride?\",\n",
       " \"Elon Musk: I guess that, that's really just a question of when can we expect the first -- or when can we do unsupervised full self-driving.\",\n",
       " 'I would be shocked if we cannot do it next year.',\n",
       " \"And what we are seeing is that the demand for NVIDIA hardware is so high that it's often difficult to get the GPUs.\",\n",
       " \"So, I think we've really got to make Dojo work and we will.\",\n",
       " \"The next question is on energy growth, which we already covered in opening remarks, so we'll move on to the next one.\",\n",
       " 'Elon Musk: And as well Optimus towards the end of next year for Optimus production Version 2, the high volume version of Optimus will also be produced here in Texas.',\n",
       " 'Elon Musk: I should say Tesla is learning quite a bit from xAI.',\n",
       " \"This wasn't they would come to Tesla.\",\n",
       " \"Vaibhav Taneja: Yes, I mean, I would even add that AI is a broad spectrum and there are a lot of things which we are focused on full time driving as Tesla and also Optimus, but there's the other spectrum of AI which we're not working on, and that's the kind of work which other companies are trying to do in this case, xAI.\",\n",
       " 'Could you just update us and talk a little bit more about that, the timeline for it and how you would reward customers for letting you use their compute power and their cars?',\n",
       " \"Elon Musk: Yes, I mean, as I've said a few times, I think the long-term value of Optimus will exceed that of everything else that Tesla combined.\",\n",
       " 'So we have all of the ingredients.',\n",
       " \"And we are aiming to have that in production at the end of next year and scale production in '26.\",\n",
       " \"And if you're -- if there's a fleet of at some point a 100 million vehicles with AI5 and beyond, because you have AI 6 and 7 and whatnot, and there may be billions of humanoid robots that is just a staggering amount of inference compute or that could be used for general purposes at computing.\",\n",
       " 'Is that the right way to think about that?',\n",
       " \"A lot of those things are, we are not resolved yet, so we'll make that determination as and when we get to that point.\",\n",
       " \"It's not -- if it's like 10,000 or a 100,000 cars a year.\",\n",
       " \"It's difficult to argue with if you -- if you've got a large number of -- yes, if you've got billions of miles that show that in the future unsupervised FSD is safer than human.\",\n",
       " 'So with the -- with Version 12.5, and maybe a 12.6, but pretty soon we will ask for regular regulatory approval of the Tesla supervised FSD in Europe, China, and other countries.',\n",
       " 'Just to … Elon Musk: Go ahead, Travis.',\n",
       " 'Travis Axelrod: In terms of like, as Elon said, in terms of regulatory approval, the vehicles are governed by FMVSS in U.S., which is the same across all 50 states.',\n",
       " \"It's all just the data that comes from the U.S Elon Musk: Yes.\",\n",
       " \"Is there a different regulatory concern just if you deploy a vehicle like that that doesn't have pedal -- pedals or a wheel, and that may not be different from just regular FSD on a traditional Tesla vehicle.\",\n",
       " \"Elon Musk: So -- but there's number of times I've talked with smart people who like live in New York or maybe downtown Boston and don't ever drive and then ask me about FSD, I'm like, you can just get a car and try it.\",\n",
       " \"And if you're not doing that, you have no idea what's going on.\",\n",
       " 'It can be used by the fleet some of the time, and then Tesla would take -- would share on the revenue with the customer.',\n",
       " 'The -- I mean, then in addition we would make some number of cars for Tesla that would just be owned by Tesla and be added to the fleet.',\n",
       " 'And do you think that scale is like progressively so you can start in a city with just a handful of cars and you grow the number of cars over time?',\n",
       " 'Or do you think there is like a critical mass you need to get to, to be able to offer like a service that is of competitive quality compared to what like the -- like Uber would be typically delivering already?',\n",
       " \"So it's, that's not really a concern right now.\",\n",
       " \"I, I think people don't understand just how much demand there will be for grid storage.\",\n",
       " 'Elon Musk: I guess that there would be like some impact, but I think it would be devastating for our competitors.',\n",
       " \"Vaibhav Taneja: Yes, I mean, I'll add this just to clarify a few things that -- at the end of the day, when we are looking at our business, we've always been looking at it whether or not IRA is there and we want our business to grow healthy without having any subsidies coming in, whichever way you look at it.\",\n",
       " 'And that is the way internally also even when we are looking at battery costs, yes, I --, there are manufacturing credits which we get, but we always drive ourselves to say, okay, what if there is no higher benefit and how do we operate in that kind of an environment?',\n",
       " 'And then on top of it, once you add autonomy to it, like even said, it becomes meaningless to you think about the short-term.']"
      ]
     },
     "execution_count": 29,
     "metadata": {},
     "output_type": "execute_result"
    }
   ],
   "source": [
    "most_important_sents"
   ]
  },
  {
   "cell_type": "code",
   "execution_count": null,
   "metadata": {},
   "outputs": [],
   "source": []
  }
 ],
 "metadata": {
  "kernelspec": {
   "display_name": "finance",
   "language": "python",
   "name": "python3"
  },
  "language_info": {
   "codemirror_mode": {
    "name": "ipython",
    "version": 3
   },
   "file_extension": ".py",
   "mimetype": "text/x-python",
   "name": "python",
   "nbconvert_exporter": "python",
   "pygments_lexer": "ipython3",
   "version": "3.10.6"
  }
 },
 "nbformat": 4,
 "nbformat_minor": 2
}
